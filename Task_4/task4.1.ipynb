{
 "cells": [
  {
   "cell_type": "code",
   "execution_count": 1,
   "metadata": {
    "scrolled": true
   },
   "outputs": [],
   "source": [
    "import cv2\n",
    "import numpy as  np"
   ]
  },
  {
   "cell_type": "code",
   "execution_count": 2,
   "metadata": {},
   "outputs": [],
   "source": [
    "#creating black background\n",
    "image = np.zeros((500,500,3))\n",
    "\n",
    "#display the image created\n",
    "cv2.imshow(\"hi\",image)\n",
    "if cv2.waitKey() == 32:\n",
    "     pass\n",
    "cv2.destroyAllWindows()"
   ]
  },
  {
   "cell_type": "code",
   "execution_count": 8,
   "metadata": {},
   "outputs": [
    {
     "data": {
      "text/plain": [
       "array([[[0., 0., 0.],\n",
       "        [0., 0., 0.],\n",
       "        [0., 0., 0.],\n",
       "        ...,\n",
       "        [0., 0., 0.],\n",
       "        [0., 0., 0.],\n",
       "        [0., 0., 0.]],\n",
       "\n",
       "       [[0., 0., 0.],\n",
       "        [0., 0., 0.],\n",
       "        [0., 0., 0.],\n",
       "        ...,\n",
       "        [0., 0., 0.],\n",
       "        [0., 0., 0.],\n",
       "        [0., 0., 0.]],\n",
       "\n",
       "       [[0., 0., 0.],\n",
       "        [0., 0., 0.],\n",
       "        [0., 0., 0.],\n",
       "        ...,\n",
       "        [0., 0., 0.],\n",
       "        [0., 0., 0.],\n",
       "        [0., 0., 0.]],\n",
       "\n",
       "       ...,\n",
       "\n",
       "       [[0., 0., 0.],\n",
       "        [0., 0., 0.],\n",
       "        [0., 0., 0.],\n",
       "        ...,\n",
       "        [0., 0., 0.],\n",
       "        [0., 0., 0.],\n",
       "        [0., 0., 0.]],\n",
       "\n",
       "       [[0., 0., 0.],\n",
       "        [0., 0., 0.],\n",
       "        [0., 0., 0.],\n",
       "        ...,\n",
       "        [0., 0., 0.],\n",
       "        [0., 0., 0.],\n",
       "        [0., 0., 0.]],\n",
       "\n",
       "       [[0., 0., 0.],\n",
       "        [0., 0., 0.],\n",
       "        [0., 0., 0.],\n",
       "        ...,\n",
       "        [0., 0., 0.],\n",
       "        [0., 0., 0.],\n",
       "        [0., 0., 0.]]])"
      ]
     },
     "execution_count": 8,
     "metadata": {},
     "output_type": "execute_result"
    }
   ],
   "source": [
    "image"
   ]
  },
  {
   "cell_type": "code",
   "execution_count": 3,
   "metadata": {},
   "outputs": [
    {
     "data": {
      "text/plain": [
       "(500, 500, 3)"
      ]
     },
     "execution_count": 3,
     "metadata": {},
     "output_type": "execute_result"
    }
   ],
   "source": [
    "image.shape"
   ]
  },
  {
   "cell_type": "code",
   "execution_count": 5,
   "metadata": {},
   "outputs": [],
   "source": [
    "#creating image \n",
    "image = np.zeros((500,500,3))\n",
    "\n",
    "#creating image flag pole\n",
    "image[40:80  ,220:230] = [0,255,255]\n",
    "image[80:120 ,220:230] = [0,0,255]\n",
    "image[120:160,220:230] = [0,255,255]\n",
    "image[160:200,220:230] = [0,0,255]\n",
    "image[200:240,220:230] = [0,255,255]\n",
    "image[240:280,220:230] = [0,0,255]\n",
    "image[280:320,220:230] = [0,255,255]\n",
    "image[320:360,220:230] = [0,0,255]\n",
    "\n",
    "#creating flag\n",
    "image[50:80 ,231:360] = [0,255,255]\n",
    "image[80:110,231:360] = [0,0,255]\n",
    "\n",
    "#creating down steps\n",
    "image[361:380,180:270] = [255,0,255]\n",
    "image[381:400,130:320] = [0,255,0]\n",
    "image[401:420,90:360] = [150,75,0]\n",
    "\n",
    "#creating pole circle\n",
    "center_coordinates = (225,35)\n",
    "radius = 5\n",
    "color = (128,128,128)\n",
    "thickness = 2\n",
    "image = cv2.circle(image, center_coordinates, radius, color, thickness)\n",
    "cv2.imshow(\"                                                       KARNATAKA FLAG\",image)\n",
    "if cv2.waitKey() == 32:\n",
    "     pass\n",
    "cv2.destroyAllWindows()"
   ]
  }
 ],
 "metadata": {
  "kernelspec": {
   "display_name": "Python 3",
   "language": "python",
   "name": "python3"
  },
  "language_info": {
   "codemirror_mode": {
    "name": "ipython",
    "version": 3
   },
   "file_extension": ".py",
   "mimetype": "text/x-python",
   "name": "python",
   "nbconvert_exporter": "python",
   "pygments_lexer": "ipython3",
   "version": "3.8.5"
  }
 },
 "nbformat": 4,
 "nbformat_minor": 4
}
