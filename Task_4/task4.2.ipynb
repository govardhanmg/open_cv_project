{
 "cells": [
  {
   "cell_type": "code",
   "execution_count": 3,
   "metadata": {},
   "outputs": [],
   "source": [
    "import cv2"
   ]
  },
  {
   "cell_type": "code",
   "execution_count": 5,
   "metadata": {},
   "outputs": [],
   "source": [
    "#image of tiger\n",
    "image1 = cv2.imread('tiger.jpg')\n",
    "\n",
    "cv2.imshow(\"1\", image1)\n",
    "if cv2.waitKey() == 32:\n",
    "    pass\n",
    "    cv2.destroyAllWindows()"
   ]
  },
  {
   "cell_type": "code",
   "execution_count": 6,
   "metadata": {},
   "outputs": [],
   "source": [
    "#image of cheetah\n",
    "image2 = cv2.imread('cheetah.jpg')\n",
    "\n",
    "cv2.imshow(\"2\", image2)\n",
    "if cv2.waitKey() == 32:\n",
    "    pass\n",
    "cv2.destroyAllWindows()"
   ]
  },
  {
   "cell_type": "code",
   "execution_count": 34,
   "metadata": {},
   "outputs": [
    {
     "data": {
      "text/plain": [
       "(288, 512, 3)"
      ]
     },
     "execution_count": 34,
     "metadata": {},
     "output_type": "execute_result"
    }
   ],
   "source": [
    "image1.shape"
   ]
  },
  {
   "cell_type": "code",
   "execution_count": 7,
   "metadata": {},
   "outputs": [],
   "source": [
    "#croping face of tiger\n",
    "image1 = cv2.imread('tiger.jpg') \n",
    "tiger = image1[57:143 , 120:190]\n",
    "\n",
    "cv2.imshow(\"1\", tiger)\n",
    "if cv2.waitKey() == 32:\n",
    "    pass\n",
    "cv2.destroyAllWindows()"
   ]
  },
  {
   "cell_type": "code",
   "execution_count": 36,
   "metadata": {},
   "outputs": [
    {
     "data": {
      "text/plain": [
       "(86, 70, 3)"
      ]
     },
     "execution_count": 36,
     "metadata": {},
     "output_type": "execute_result"
    }
   ],
   "source": [
    "tiger.shape"
   ]
  },
  {
   "cell_type": "code",
   "execution_count": 8,
   "metadata": {},
   "outputs": [],
   "source": [
    "#croping face of cheetah\n",
    "image2 = cv2.imread('cheetah.jpg')\n",
    "cheetah = image2[54:140 , 102:172]\n",
    "\n",
    "cv2.imshow(\"2\", cheetah)\n",
    "if cv2.waitKey() == 32:\n",
    "    pass\n",
    "cv2.destroyAllWindows()"
   ]
  },
  {
   "cell_type": "code",
   "execution_count": 38,
   "metadata": {},
   "outputs": [
    {
     "data": {
      "text/plain": [
       "(86, 70, 3)"
      ]
     },
     "execution_count": 38,
     "metadata": {},
     "output_type": "execute_result"
    }
   ],
   "source": [
    "cheetah.shape"
   ]
  },
  {
   "cell_type": "code",
   "execution_count": 9,
   "metadata": {},
   "outputs": [],
   "source": [
    "#swapping cheetah's face with tiger\n",
    "final_image1 = cv2.imread('tiger.jpg')\n",
    "final_image1 [57:143 , 120:190] = cheetah\n",
    "\n",
    "cv2.imshow(\"f1\", final_image1)\n",
    "if cv2.waitKey() == 32:\n",
    "    pass\n",
    "cv2.destroyAllWindows()"
   ]
  },
  {
   "cell_type": "code",
   "execution_count": 10,
   "metadata": {},
   "outputs": [],
   "source": [
    "#swapping tiger's face with cheetah\n",
    "final_image2 = cv2.imread('cheetah.jpg')\n",
    "final_image2 [54:140 , 102:172] = tiger\n",
    "\n",
    "cv2.imshow(\"f2\", final_image2)\n",
    "if cv2.waitKey() == 32:\n",
    "    pass\n",
    "cv2.destroyAllWindows()"
   ]
  }
 ],
 "metadata": {
  "kernelspec": {
   "display_name": "Python 3",
   "language": "python",
   "name": "python3"
  },
  "language_info": {
   "codemirror_mode": {
    "name": "ipython",
    "version": 3
   },
   "file_extension": ".py",
   "mimetype": "text/x-python",
   "name": "python",
   "nbconvert_exporter": "python",
   "pygments_lexer": "ipython3",
   "version": "3.8.5"
  }
 },
 "nbformat": 4,
 "nbformat_minor": 4
}
